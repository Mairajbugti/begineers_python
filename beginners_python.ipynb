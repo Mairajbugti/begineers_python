{
 "cells": [
  {
   "cell_type": "code",
   "execution_count": 2,
   "metadata": {},
   "outputs": [
    {
     "name": "stdout",
     "output_type": "stream",
     "text": [
      "Hello World\n"
     ]
    }
   ],
   "source": [
    "print(\"Hello World\")"
   ]
  },
  {
   "cell_type": "code",
   "execution_count": 3,
   "metadata": {},
   "outputs": [],
   "source": [
    "my_name = \"Mairaj\" #my_name is a VARIABLE & \"Mairaj\" is a STRING. variable refers to a particular value "
   ]
  },
  {
   "cell_type": "code",
   "execution_count": 4,
   "metadata": {},
   "outputs": [
    {
     "name": "stdout",
     "output_type": "stream",
     "text": [
      "Mairaj\n"
     ]
    }
   ],
   "source": [
    "print(my_name)"
   ]
  },
  {
   "cell_type": "code",
   "execution_count": 13,
   "metadata": {},
   "outputs": [],
   "source": [
    "weight = 150\n",
    "add = weight + 50"
   ]
  },
  {
   "cell_type": "code",
   "execution_count": 14,
   "metadata": {},
   "outputs": [
    {
     "name": "stdout",
     "output_type": "stream",
     "text": [
      "200\n"
     ]
    }
   ],
   "source": [
    "print(add) #String isnt the only thing u can assign to a variable. U can also assign numbers to a variable also u can add them"
   ]
  },
  {
   "cell_type": "code",
   "execution_count": 16,
   "metadata": {},
   "outputs": [
    {
     "ename": "TypeError",
     "evalue": "can only concatenate str (not \"int\") to str",
     "output_type": "error",
     "traceback": [
      "\u001b[1;31m---------------------------------------------------------------------------\u001b[0m",
      "\u001b[1;31mTypeError\u001b[0m                                 Traceback (most recent call last)",
      "\u001b[1;32m<ipython-input-16-176c3b4a3296>\u001b[0m in \u001b[0;36m<module>\u001b[1;34m\u001b[0m\n\u001b[0;32m      1\u001b[0m \u001b[0mnum\u001b[0m \u001b[1;33m=\u001b[0m \u001b[1;34m\"12\"\u001b[0m\u001b[1;33m\u001b[0m\u001b[1;33m\u001b[0m\u001b[0m\n\u001b[0;32m      2\u001b[0m \u001b[0mnum2\u001b[0m \u001b[1;33m=\u001b[0m \u001b[1;36m6\u001b[0m\u001b[1;33m\u001b[0m\u001b[1;33m\u001b[0m\u001b[0m\n\u001b[1;32m----> 3\u001b[1;33m \u001b[0mnum3\u001b[0m \u001b[1;33m=\u001b[0m \u001b[0mnum\u001b[0m \u001b[1;33m+\u001b[0m \u001b[0mnum2\u001b[0m\u001b[1;33m\u001b[0m\u001b[1;33m\u001b[0m\u001b[0m\n\u001b[0m",
      "\u001b[1;31mTypeError\u001b[0m: can only concatenate str (not \"int\") to str"
     ]
    }
   ],
   "source": [
    "num = \"12\"\n",
    "num2 = 6\n",
    "num3 = num + num2"
   ]
  },
  {
   "cell_type": "code",
   "execution_count": 17,
   "metadata": {},
   "outputs": [
    {
     "ename": "NameError",
     "evalue": "name 'num3' is not defined",
     "output_type": "error",
     "traceback": [
      "\u001b[1;31m---------------------------------------------------------------------------\u001b[0m",
      "\u001b[1;31mNameError\u001b[0m                                 Traceback (most recent call last)",
      "\u001b[1;32m<ipython-input-17-ef2d41502bcf>\u001b[0m in \u001b[0;36m<module>\u001b[1;34m\u001b[0m\n\u001b[1;32m----> 1\u001b[1;33m \u001b[0mprint\u001b[0m\u001b[1;33m(\u001b[0m\u001b[0mnum3\u001b[0m\u001b[1;33m)\u001b[0m\u001b[1;33m\u001b[0m\u001b[1;33m\u001b[0m\u001b[0m\n\u001b[0m",
      "\u001b[1;31mNameError\u001b[0m: name 'num3' is not defined"
     ]
    }
   ],
   "source": [
    "print(num3) #Python can't add a string to a number "
   ]
  },
  {
   "cell_type": "code",
   "execution_count": 18,
   "metadata": {},
   "outputs": [
    {
     "name": "stdout",
     "output_type": "stream",
     "text": [
      "4\n"
     ]
    }
   ],
   "source": [
    "print(2+2) #U can add, subtract, multiply & divide numbers directly in only python"
   ]
  },
  {
   "cell_type": "code",
   "execution_count": 19,
   "metadata": {},
   "outputs": [],
   "source": [
    "divide = 7 / 5"
   ]
  },
  {
   "cell_type": "code",
   "execution_count": 20,
   "metadata": {},
   "outputs": [
    {
     "name": "stdout",
     "output_type": "stream",
     "text": [
      "1.4\n"
     ]
    }
   ],
   "source": [
    "print(divide)"
   ]
  },
  {
   "cell_type": "code",
   "execution_count": 22,
   "metadata": {},
   "outputs": [
    {
     "name": "stdout",
     "output_type": "stream",
     "text": [
      "0\n"
     ]
    }
   ],
   "source": [
    "age = 9 % 3\n",
    "print(age) # % is the modulo operator. It divides one number by another number, but \n",
    "            doesn't give you the result of the division."
   ]
  },
  {
   "cell_type": "code",
   "execution_count": 23,
   "metadata": {},
   "outputs": [
    {
     "name": "stdout",
     "output_type": "stream",
     "text": [
      "17\n"
     ]
    }
   ],
   "source": [
    "g = 12\n",
    "g += 5\n",
    "print(g)  # u can use single varible for math operations also"
   ]
  },
  {
   "cell_type": "code",
   "execution_count": 24,
   "metadata": {},
   "outputs": [
    {
     "name": "stdout",
     "output_type": "stream",
     "text": [
      "13\n"
     ]
    }
   ],
   "source": [
    "num = 1 +3 * 4\n",
    "print(num)"
   ]
  },
  {
   "cell_type": "code",
   "execution_count": 25,
   "metadata": {},
   "outputs": [
    {
     "name": "stdout",
     "output_type": "stream",
     "text": [
      "13\n"
     ]
    }
   ],
   "source": [
    "num2 = 3 * 4 + 1\n",
    "print(num2)     # python follows BODMAS rule"
   ]
  },
  {
   "cell_type": "code",
   "execution_count": 28,
   "metadata": {},
   "outputs": [
    {
     "name": "stdout",
     "output_type": "stream",
     "text": [
      "say hello Hellow World \n"
     ]
    }
   ],
   "source": [
    "greeting = \"Hellow \"\n",
    "addressee = \"World \"\n",
    "whole_greeting = greeting + addressee # adding string end-to-end is called CONCATENATION\n",
    "print(\"say hello\" ,whole_greeting)"
   ]
  },
  {
   "cell_type": "code",
   "execution_count": 23,
   "metadata": {},
   "outputs": [
    {
     "data": {
      "text/plain": [
       "13"
      ]
     },
     "execution_count": 23,
     "metadata": {},
     "output_type": "execute_result"
    }
   ],
   "source": [
    "                            #we can find no. of characters in a string using \"len\"\n",
    "len(\"Mairaj rehman\")"
   ]
  },
  {
   "cell_type": "code",
   "execution_count": 31,
   "metadata": {},
   "outputs": [
    {
     "name": "stdout",
     "output_type": "stream",
     "text": [
      "mai\n",
      "ehm\n",
      "mr hn\n",
      "mairaj rehman is the best\n"
     ]
    }
   ],
   "source": [
    "                            #breaking characters into pieces is called \"slicing\" in python\n",
    "name=\"mairaj rehman\"\n",
    "print(name[0:3])\n",
    "\n",
    "print(name[8:11])\n",
    "                        #this is called \"stride\" we get every 2nd value of character\n",
    "    \n",
    "print(name[::3])\n",
    "                    #CONCATENATION is combing string by using +\n",
    "\n",
    "statement = name + \" is the best\"\n",
    "print(statement)"
   ]
  },
  {
   "cell_type": "code",
   "execution_count": 33,
   "metadata": {},
   "outputs": [
    {
     "name": "stdout",
     "output_type": "stream",
     "text": [
      "mairaj\n",
      "GOOD\n"
     ]
    },
    {
     "data": {
      "text/plain": [
       "'good'"
      ]
     },
     "execution_count": 33,
     "metadata": {},
     "output_type": "execute_result"
    }
   ],
   "source": [
    "                                        #make your small characters upper case\n",
    "a='mairaj'\n",
    "print(a)\n",
    "a.upper()\n",
    "                        #lower case\n",
    "b=\"GOOD\"\n",
    "print(b)\n",
    "b.lower()"
   ]
  },
  {
   "cell_type": "code",
   "execution_count": 39,
   "metadata": {},
   "outputs": [
    {
     "name": "stdout",
     "output_type": "stream",
     "text": [
      "MAiraj\n",
      "new string is  PIAIC\n",
      "3\n"
     ]
    }
   ],
   "source": [
    "                                #replacing\n",
    "a=\"MAiraj\"\n",
    "print(a)\n",
    "b=a.replace(\"MAiraj\" , \"PIAIC\")\n",
    "print(\"new string is \",b)\n",
    "                            #in this method we can find index number\n",
    "c = b.find(\"IC\")\n",
    "print(c)"
   ]
  },
  {
   "cell_type": "code",
   "execution_count": 2,
   "metadata": {},
   "outputs": [
    {
     "name": "stdout",
     "output_type": "stream",
     "text": [
      "enter any number: 12\n",
      "enter number : 3\n",
      "15\n",
      "enter any number: 4\n",
      "enter number : 5\n",
      "45\n"
     ]
    }
   ],
   "source": [
    "x = int(input(\"enter any number: \"))            #This is how we can take user i/p & use them for multiple functions\n",
    "y = int(input(\"enter number : \"))\n",
    "z = x + y\n",
    "print(z)                    #we use here int (integer) b/c we are adding them\n",
    "                            #if we add numbers without int python will get it as str (string)\n",
    "\n",
    "a = input(\"enter any number: \")            \n",
    "b = input(\"enter number : \")\n",
    "c = a + b\n",
    "print(c)"
   ]
  },
  {
   "cell_type": "code",
   "execution_count": 5,
   "metadata": {},
   "outputs": [
    {
     "name": "stdout",
     "output_type": "stream",
     "text": [
      "enter any character: Good\n",
      "Good\n",
      "enter any character: Good\n",
      "G\n",
      "enter any character: Good\n",
      "o\n"
     ]
    }
   ],
   "source": [
    "ch = input('enter any character: ') #Here ch is (character) any single alphabate but when I enter many ch then python showed'em all\n",
    "print(ch)\n",
    "\n",
    "ch1 = input('enter any character: ')[0] #here I use index number o b/c index no. starts from 0 always\n",
    "print(ch1)                              #when i type index no. 0 it shows first character\n",
    "\n",
    "ch2 = input('enter any character: ')[1] #here i type index no. 1 it shows 2nd character for word\n",
    "print(ch2)"
   ]
  },
  {
   "cell_type": "code",
   "execution_count": 7,
   "metadata": {},
   "outputs": [
    {
     "name": "stdout",
     "output_type": "stream",
     "text": [
      "enter expression: 4-6023+65*2875\n",
      "180856\n"
     ]
    }
   ],
   "source": [
    "result = eval(input('enter expression: ')) #we use \"eval\" function to use an expression\n",
    "print(result)"
   ]
  },
  {
   "cell_type": "code",
   "execution_count": 9,
   "metadata": {},
   "outputs": [
    {
     "name": "stdout",
     "output_type": "stream",
     "text": [
      "y is greater than x \n"
     ]
    }
   ],
   "source": [
    "x = 2\n",
    "y = 5\n",
    "if x < y:\n",
    "    print(\"y is greater than x \") # This is if statement\n"
   ]
  },
  {
   "cell_type": "code",
   "execution_count": 12,
   "metadata": {},
   "outputs": [],
   "source": [
    "x = 2\n",
    "y = 5\n",
    "if x > y:\n",
    "    print(\"y is greater than x \") # so x is not > than y then python will not print it\n"
   ]
  },
  {
   "cell_type": "code",
   "execution_count": 14,
   "metadata": {},
   "outputs": [
    {
     "name": "stdout",
     "output_type": "stream",
     "text": [
      "x is not greater than y\n"
     ]
    }
   ],
   "source": [
    "x = 2                                               # this is if-else statement\n",
    "                   #we use if-else statement b/c we are giving options to our code if this condition is true then print it\n",
    "                                    # but if this condition is not true then go for other option\n",
    "y = 5\n",
    "if x > y:\n",
    "    print(\"y is greater than x \")\n",
    "else:\n",
    "    print(\"x is not greater than y\")\n"
   ]
  },
  {
   "cell_type": "code",
   "execution_count": 3,
   "metadata": {},
   "outputs": [
    {
     "name": "stdout",
     "output_type": "stream",
     "text": [
      "odd\n"
     ]
    }
   ],
   "source": [
    "x = 7              #we checked if a number is even/odd we use % to check a no. is divisible by 2/not\n",
    "r = x % 2           #after writting if we to give 4 spaces to use if statement \n",
    "if r==0:            \n",
    "    print(\"even\")\n",
    "else:\n",
    "    print(\"odd\")"
   ]
  },
  {
   "cell_type": "code",
   "execution_count": 4,
   "metadata": {},
   "outputs": [
    {
     "name": "stdout",
     "output_type": "stream",
     "text": [
      "enter any number: 8\n",
      "even\n"
     ]
    }
   ],
   "source": [
    "a = int(input(\"enter any number: \")) #here I got input from user\n",
    "c = a % 2\n",
    "if c==0:\n",
    "    print(\"even\")\n",
    "else:\n",
    "    print(\"odd\")"
   ]
  },
  {
   "cell_type": "code",
   "execution_count": 1,
   "metadata": {},
   "outputs": [
    {
     "name": "stdout",
     "output_type": "stream",
     "text": [
      "enter any number: 6\n",
      "even\n",
      "Great\n"
     ]
    }
   ],
   "source": [
    "                           #Now we use nested loop (if in a if condition)\n",
    "a = int(input(\"enter any number: \"))\n",
    "c = a % 2\n",
    "if c==0:               #this is our main if block\n",
    "    print(\"even\")\n",
    "    if a>5:            #this if block relates to upper if block it only works when upper if work\n",
    "        print(\"Great\")\n",
    "    else:\n",
    "        print(\"not so great\") \n",
    "else:\n",
    "    print(\"odd\")"
   ]
  },
  {
   "cell_type": "code",
   "execution_count": 3,
   "metadata": {},
   "outputs": [
    {
     "name": "stdout",
     "output_type": "stream",
     "text": [
      "enter any number: 9\n",
      "you entered wrong input\n"
     ]
    }
   ],
   "source": [
    "x = int(input(\"enter any number: \"))\n",
    "if x==1:\n",
    "    print('one')\n",
    "elif x==2:                 #we use multiple conditons in a signle code by using \"elif\"\n",
    "    print(\"two\")\n",
    "elif x==3:\n",
    "    print(\"three\")\n",
    "else:\n",
    "    print(\"you entered wrong input\")"
   ]
  },
  {
   "cell_type": "code",
   "execution_count": 5,
   "metadata": {},
   "outputs": [
    {
     "name": "stdout",
     "output_type": "stream",
     "text": [
      "enter password: 4321\n",
      "wellcome\n"
     ]
    }
   ],
   "source": [
    "                                          #password program usin if-else statement\n",
    "a = int(input(\"enter password: \"))\n",
    "if a==4321:\n",
    "    print(\"wellcome\")\n",
    "else:\n",
    "    print(\"wrong password\")"
   ]
  },
  {
   "cell_type": "code",
   "execution_count": 6,
   "metadata": {},
   "outputs": [
    {
     "name": "stdout",
     "output_type": "stream",
     "text": [
      "enter password: 4321\n",
      "wellcome\n"
     ]
    }
   ],
   "source": [
    "                                          #password program usin if-else statement\n",
    "a = int(input(\"enter password: \"))\n",
    "if a==4321:\n",
    "    print(\"wellcome\")\n",
    "    \n",
    "else:\n",
    "    print(\"wrong password\")"
   ]
  },
  {
   "cell_type": "code",
   "execution_count": 8,
   "metadata": {},
   "outputs": [
    {
     "name": "stdout",
     "output_type": "stream",
     "text": [
      "enter number print its table: 5\n",
      "5 * 0 = 0\n",
      "5 * 1 = 5\n",
      "5 * 2 = 10\n",
      "5 * 3 = 15\n",
      "5 * 4 = 20\n",
      "5 * 5 = 25\n",
      "5 * 6 = 30\n",
      "5 * 7 = 35\n",
      "5 * 8 = 40\n",
      "5 * 9 = 45\n",
      "5 * 10 = 50\n"
     ]
    }
   ],
   "source": [
    "                                                 #making a table\n",
    "a = int(input(\"enter number print its table: \"))\n",
    "for i in range(11):\n",
    "    print(str(a) +\" * \" +str(i)+ \" = \" +str(a*i))"
   ]
  },
  {
   "cell_type": "code",
   "execution_count": 3,
   "metadata": {},
   "outputs": [
    {
     "name": "stdout",
     "output_type": "stream",
     "text": [
      "good\n",
      "good\n",
      "good\n",
      "good\n",
      "good\n"
     ]
    }
   ],
   "source": [
    "                                     #while statement writes a single statement multiple times\n",
    "i = 1\n",
    "while i<=5:\n",
    "    print(\"good\")\n",
    "    i=i+1"
   ]
  },
  {
   "cell_type": "code",
   "execution_count": 15,
   "metadata": {},
   "outputs": [
    {
     "name": "stdout",
     "output_type": "stream",
     "text": [
      "good enough enough enough enough\n",
      "good enough enough enough enough\n",
      "good enough enough enough enough\n",
      "good enough enough enough enough\n",
      "good enough enough enough enough\n"
     ]
    }
   ],
   "source": [
    "                        #nested while loop\n",
    "i = 1\n",
    "while i<=5:\n",
    "    print(\"good\",end=\"\")\n",
    "    j=1\n",
    "    while j<=4:\n",
    "        print(\" enough\",end=\"\")\n",
    "        j=j+1\n",
    "    i=i+1\n",
    "    print()\n",
    "    "
   ]
  },
  {
   "cell_type": "code",
   "execution_count": 7,
   "metadata": {},
   "outputs": [
    {
     "name": "stdout",
     "output_type": "stream",
     "text": [
      " * * * * * * * * * * * * * * *\n",
      " * * * * * * * * * * * * * * *\n",
      " * * * * * * * * * * * * * * *\n",
      " * * * * * * * * * * * * * * *\n",
      " * * * * * * * * * * * * * * *\n"
     ]
    }
   ],
   "source": [
    "for i in range(5):\n",
    "    for j in range(15):\n",
    "        print(\" *\",end='')\n",
    "    print()"
   ]
  },
  {
   "cell_type": "code",
   "execution_count": 8,
   "metadata": {},
   "outputs": [
    {
     "name": "stdout",
     "output_type": "stream",
     "text": [
      "\n",
      " *\n",
      " * *\n",
      " * * *\n",
      " * * * *\n",
      " * * * * *\n",
      " * * * * * *\n",
      " * * * * * * *\n",
      " * * * * * * * *\n",
      " * * * * * * * * *\n",
      " * * * * * * * * * *\n",
      " * * * * * * * * * * *\n",
      " * * * * * * * * * * * *\n",
      " * * * * * * * * * * * * *\n",
      " * * * * * * * * * * * * * *\n",
      " * * * * * * * * * * * * * * *\n",
      " * * * * * * * * * * * * * * * *\n",
      " * * * * * * * * * * * * * * * * *\n",
      " * * * * * * * * * * * * * * * * * *\n",
      " * * * * * * * * * * * * * * * * * * *\n",
      " * * * * * * * * * * * * * * * * * * * *\n",
      " * * * * * * * * * * * * * * * * * * * * *\n",
      " * * * * * * * * * * * * * * * * * * * * * *\n",
      " * * * * * * * * * * * * * * * * * * * * * * *\n",
      " * * * * * * * * * * * * * * * * * * * * * * * *\n",
      " * * * * * * * * * * * * * * * * * * * * * * * * *\n",
      " * * * * * * * * * * * * * * * * * * * * * * * * * *\n",
      " * * * * * * * * * * * * * * * * * * * * * * * * * * *\n",
      " * * * * * * * * * * * * * * * * * * * * * * * * * * * *\n",
      " * * * * * * * * * * * * * * * * * * * * * * * * * * * * *\n",
      " * * * * * * * * * * * * * * * * * * * * * * * * * * * * * *\n",
      " * * * * * * * * * * * * * * * * * * * * * * * * * * * * * * *\n",
      " * * * * * * * * * * * * * * * * * * * * * * * * * * * * * * * *\n",
      " * * * * * * * * * * * * * * * * * * * * * * * * * * * * * * * * *\n",
      " * * * * * * * * * * * * * * * * * * * * * * * * * * * * * * * * * *\n",
      " * * * * * * * * * * * * * * * * * * * * * * * * * * * * * * * * * * *\n",
      " * * * * * * * * * * * * * * * * * * * * * * * * * * * * * * * * * * * *\n",
      " * * * * * * * * * * * * * * * * * * * * * * * * * * * * * * * * * * * * *\n",
      " * * * * * * * * * * * * * * * * * * * * * * * * * * * * * * * * * * * * * *\n",
      " * * * * * * * * * * * * * * * * * * * * * * * * * * * * * * * * * * * * * * *\n",
      " * * * * * * * * * * * * * * * * * * * * * * * * * * * * * * * * * * * * * * * *\n",
      " * * * * * * * * * * * * * * * * * * * * * * * * * * * * * * * * * * * * * * * * *\n",
      " * * * * * * * * * * * * * * * * * * * * * * * * * * * * * * * * * * * * * * * * * *\n",
      " * * * * * * * * * * * * * * * * * * * * * * * * * * * * * * * * * * * * * * * * * * *\n",
      " * * * * * * * * * * * * * * * * * * * * * * * * * * * * * * * * * * * * * * * * * * * *\n",
      " * * * * * * * * * * * * * * * * * * * * * * * * * * * * * * * * * * * * * * * * * * * * *\n",
      " * * * * * * * * * * * * * * * * * * * * * * * * * * * * * * * * * * * * * * * * * * * * * *\n",
      " * * * * * * * * * * * * * * * * * * * * * * * * * * * * * * * * * * * * * * * * * * * * * * *\n",
      " * * * * * * * * * * * * * * * * * * * * * * * * * * * * * * * * * * * * * * * * * * * * * * * *\n",
      " * * * * * * * * * * * * * * * * * * * * * * * * * * * * * * * * * * * * * * * * * * * * * * * * *\n"
     ]
    }
   ],
   "source": [
    "for i in range(50):\n",
    "    for j in range(i):\n",
    "        print(\" *\",end='')\n",
    "    print()"
   ]
  },
  {
   "cell_type": "code",
   "execution_count": null,
   "metadata": {},
   "outputs": [],
   "source": []
  }
 ],
 "metadata": {
  "kernelspec": {
   "display_name": "Python 3",
   "language": "python",
   "name": "python3"
  },
  "language_info": {
   "codemirror_mode": {
    "name": "ipython",
    "version": 3
   },
   "file_extension": ".py",
   "mimetype": "text/x-python",
   "name": "python",
   "nbconvert_exporter": "python",
   "pygments_lexer": "ipython3",
   "version": "3.7.3"
  }
 },
 "nbformat": 4,
 "nbformat_minor": 2
}
